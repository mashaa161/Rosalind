{
 "cells": [
  {
   "cell_type": "markdown",
   "id": "5305f94c-b8e3-4270-99b8-7147e38a1755",
   "metadata": {},
   "source": [
    "# open the .txt file and extract data from it."
   ]
  },
  {
   "cell_type": "code",
   "execution_count": 1,
   "id": "d9753aba-8005-41fc-a238-75fa5b7bec4d",
   "metadata": {},
   "outputs": [
    {
     "name": "stdout",
     "output_type": "stream",
     "text": [
      "['>Rosalind_6404\\n', 'CCTGCGGAAGATCGGCACTAGAATAGCCAGAACCGTTTCTCTGAGGCTTCCGGCCTTCCC\\n', 'TCCCACTAATAATTCTGAGG\\n', '>Rosalind_5959\\n', 'CCATCGGTAGCGCATCCTTAGTCCAATTAAGTCCCTATCCAGGCGCTCCGCCGAAGGTCT\\n', 'ATATCCATTTGTCAGCAGACACGC\\n', '>Rosalind_0808\\n', 'ACACACTCGTGGTATAGTTAGACATTCAAGAACATGAGAACGATTCAAATCAGTTCTGAT\\n', 'TAAGAAATTGATGGCAGTAGGTGGAAT\\n', '>Rosalind_3526\\n', 'CGGAGGCCTTAAGATCTGAGGGCTTGCATAAGATAGCAAAGCGTCGCGCTAGGGACAAT\\n', 'AGGTAAACTCTGGGCTGATCGCATGCCGCGTCGCGTCGACGGGACAT']\n"
     ]
    }
   ],
   "source": [
    "with open(\"./Data_file.txt\") as Data_file:\n",
    "    Data = Data_file.readlines()\n",
    "print(Data)"
   ]
  },
  {
   "cell_type": "markdown",
   "id": "995414b2-6e81-4e17-8910-06e00874d2f9",
   "metadata": {},
   "source": [
    "# format the FASTA data in a tidy and readable form"
   ]
  },
  {
   "cell_type": "code",
   "execution_count": 2,
   "id": "9d71d0b9-f49f-4364-95cf-3c44fd1b00fa",
   "metadata": {},
   "outputs": [],
   "source": [
    "IDs_num = 0\n",
    "DNA_strings ={}\n",
    "for line in Data:\n",
    "    line= line.strip()\n",
    "    if line.startswith(\">\"):\n",
    "        IDs_num += 1\n",
    "        ID = line[1:]\n",
    "        DNA_strings[ID] = \"\"\n",
    "    else:\n",
    "        DNA_strings[ID] += line.strip()"
   ]
  },
  {
   "cell_type": "markdown",
   "id": "ce861ee6-f123-4ea3-b9b5-8b1b18b2edec",
   "metadata": {},
   "source": [
    "# calculate the GC percentage in each unique sequence and store them in a dictionary"
   ]
  },
  {
   "cell_type": "code",
   "execution_count": 3,
   "id": "dfdb25dc-a830-4a89-b370-2da6bb402abd",
   "metadata": {},
   "outputs": [
    {
     "name": "stdout",
     "output_type": "stream",
     "text": [
      "{'Rosalind_6404': 53.75, 'Rosalind_5959': 53.57142857142857, 'Rosalind_0808': 36.7816091954023, 'Rosalind_3526': 56.60377358490566}\n"
     ]
    }
   ],
   "source": [
    "GC_dic ={}\n",
    "for ID in DNA_strings.keys():\n",
    "    GC_content = 0\n",
    "    for nuc in DNA_strings[ID]:\n",
    "        if nuc == \"G\" or nuc.upper() == \"C\":\n",
    "            GC_content += 1\n",
    "    GC_dic[ID] = (GC_content / len(DNA_strings[ID]) * 100)\n",
    "print(GC_dic)"
   ]
  },
  {
   "cell_type": "markdown",
   "id": "fabf74f4-5aa1-417c-9529-d05e0ea1d42b",
   "metadata": {},
   "source": [
    "# finding the highest GC percent and print it out"
   ]
  },
  {
   "cell_type": "code",
   "execution_count": 4,
   "id": "fbcb9c5f-1e4a-4d8e-918b-4b4b63b45124",
   "metadata": {},
   "outputs": [
    {
     "name": "stdout",
     "output_type": "stream",
     "text": [
      "The highest GC percent is located in: Rosalind_3526\n",
      "Its GC percent is: 56.60377358490566%\n"
     ]
    }
   ],
   "source": [
    "max_GC_perc = max(GC_dic.values())\n",
    "for ID in GC_dic.keys():\n",
    "    if GC_dic[ID] == max_GC_perc:\n",
    "        print(\"The highest GC percent is located in:\", ID)\n",
    "        print(\"Its GC percent is: \", GC_dic[ID], \"%\", sep=\"\")\n",
    "        break"
   ]
  },
  {
   "cell_type": "code",
   "execution_count": null,
   "id": "b1b4aca6-f34a-4875-ad57-6d6baa4a4e9d",
   "metadata": {},
   "outputs": [],
   "source": []
  }
 ],
 "metadata": {
  "kernelspec": {
   "display_name": "Python 3 (ipykernel)",
   "language": "python",
   "name": "python3"
  },
  "language_info": {
   "codemirror_mode": {
    "name": "ipython",
    "version": 3
   },
   "file_extension": ".py",
   "mimetype": "text/x-python",
   "name": "python",
   "nbconvert_exporter": "python",
   "pygments_lexer": "ipython3",
   "version": "3.11.7"
  }
 },
 "nbformat": 4,
 "nbformat_minor": 5
}
