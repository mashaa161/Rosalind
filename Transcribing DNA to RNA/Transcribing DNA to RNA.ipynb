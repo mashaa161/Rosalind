{
 "cells": [
  {
   "cell_type": "markdown",
   "id": "1aef9975-2927-455a-be96-f921ceda7811",
   "metadata": {},
   "source": [
    "# open the .txt file and extract data from it."
   ]
  },
  {
   "cell_type": "code",
   "execution_count": 1,
   "id": "0215fb22-5b8c-41f0-b5c5-875c4fb2a234",
   "metadata": {},
   "outputs": [
    {
     "name": "stdout",
     "output_type": "stream",
     "text": [
      "ATGAGGATTTGCGCCTCTCTCGTCAGATTAGAAACGCAATCAATCATGATGATCGGCTAGGCCCGGCGCCCCACTGACGCTTGCAGTACAGTGTAACATCGTTATACGAGGTGAGGCATTTAATGAATTCTCTGCTGCCCTGTCTATGTGGTGCTCGACCCGATCTAGAGCCTATGTAGGTAAGAAGAAAGGTGCTGTAGGAGGTCGGATCGATGTCGAGAAAAAGCAAGACACACATGTTCGTCCTACACAAACCCACACTGGCGGATAACCAGGACAGATAATTGCATCGATAAGTTGATGACTTCAAAGCAGACTCCACGATCAGTGCAAATTTTAAAAAGCCTCGCCGTTTTTGGGTATCTCGTC\n"
     ]
    }
   ],
   "source": [
    "with open(\"./Data_file.txt\") as Data_file:\n",
    "    Data = Data_file.readline().strip()\n",
    "print(Data)"
   ]
  },
  {
   "cell_type": "markdown",
   "id": "1f828a38-145f-4e81-af42-1bf65abae974",
   "metadata": {},
   "source": [
    "# transcribing DNA into RNA"
   ]
  },
  {
   "cell_type": "code",
   "execution_count": 2,
   "id": "856f8a20-0454-4115-b033-9ba10015c943",
   "metadata": {},
   "outputs": [
    {
     "name": "stdout",
     "output_type": "stream",
     "text": [
      " AUGAGGAUUUGCGCCUCUCUCGUCAGAUUAGAAACGCAAUCAAUCAUGAUGAUCGGCUAGGCCCGGCGCCCCACUGACGCUUGCAGUACAGUGUAACAUCGUUAUACGAGGUGAGGCAUUUAAUGAAUUCUCUGCUGCCCUGUCUAUGUGGUGCUCGACCCGAUCUAGAGCCUAUGUAGGUAAGAAGAAAGGUGCUGUAGGAGGUCGGAUCGAUGUCGAGAAAAAGCAAGACACACAUGUUCGUCCUACACAAACCCACACUGGCGGAUAACCAGGACAGAUAAUUGCAUCGAUAAGUUGAUGACUUCAAAGCAGACUCCACGAUCAGUGCAAAUUUUAAAAAGCCUCGCCGUUUUUGGGUAUCUCGUC\n"
     ]
    }
   ],
   "source": [
    "def DNAtoRNA(DNA_seq):\n",
    "    RNA = \" \"\n",
    "    for nuc in DNA_seq:\n",
    "        if nuc.upper() == \"T\":\n",
    "            RNA += \"U\"\n",
    "        else:\n",
    "            RNA += nuc\n",
    "    return RNA\n",
    "print(DNAtoRNA(Data))"
   ]
  },
  {
   "cell_type": "code",
   "execution_count": null,
   "id": "cf44b1fc-ddba-42c5-b088-7d319eb12477",
   "metadata": {},
   "outputs": [],
   "source": []
  }
 ],
 "metadata": {
  "kernelspec": {
   "display_name": "Python 3 (ipykernel)",
   "language": "python",
   "name": "python3"
  },
  "language_info": {
   "codemirror_mode": {
    "name": "ipython",
    "version": 3
   },
   "file_extension": ".py",
   "mimetype": "text/x-python",
   "name": "python",
   "nbconvert_exporter": "python",
   "pygments_lexer": "ipython3",
   "version": "3.11.7"
  }
 },
 "nbformat": 4,
 "nbformat_minor": 5
}
