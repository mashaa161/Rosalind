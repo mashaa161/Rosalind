{
 "cells": [
  {
   "cell_type": "markdown",
   "id": "c04adf2d-7732-4e4b-833f-9bd6027bba25",
   "metadata": {},
   "source": [
    "# open the .txt file and extract data from it."
   ]
  },
  {
   "cell_type": "code",
   "execution_count": 2,
   "id": "b67b20d4-a16b-4c18-addd-8586d8ff4af7",
   "metadata": {},
   "outputs": [
    {
     "name": "stdout",
     "output_type": "stream",
     "text": [
      "ATAGCGAAGCATCCGGAGAAGCTTTTATTGCCAAATGTGGAACCGAACCTTGTTTGACAGTCCCAAGGTGTTGCACCGGGACGCCTTAGTTGCTGCTTCCCGACGATGGGATACGTTGAACCAAGTGCGTTCCCAGTCCGGTGATCTGACTCCCAGATAGATCATCACCGGCGCAAACTGGAAGCATATGCCTACTTCTACTAGATAAACGAACGCCCATGGGCGATCACACTGATTCTCGCTGTCCATAGAGGTATCAACCAGAAACGAAGTAGTTCGGGTGAACGAAGACTAATCTACTACTGGTTGGGCTACGACTACGTCGATAGCTCAGCTGCATCGATCAAATGGTGAAACACGCTTTCAGAGGTATTCTCTAAGCCTACCTAACGTATTAGATAGCCAGTCGACGATAAAGACCCCTGCTCCGCTTGGTTGGCCATTCTTTTAACAGGAAGACCAGAGGAAAAATCTTACGCTCGCAGTCCCGAGATGCGAGTACGGCGATATGGTCCACAAAGCGGTGCGCGCTTAGCTAATCATGCATCGAGGGGTATTTGTAATTTGTCCAGTACAGGAGGCTCTTCCCATTCGTAGGTTCGGCACGCGCACCACC\n"
     ]
    }
   ],
   "source": [
    "with open(\"./Data_file.txt\") as Data_file:\n",
    "    Data = Data_file.readline().strip()\n",
    "print(Data)"
   ]
  },
  {
   "cell_type": "markdown",
   "id": "ae1f9e4a-0181-4870-89e7-717d24c4f8ab",
   "metadata": {},
   "source": [
    "# counting the number of evey nucleotide in DNA sequence"
   ]
  },
  {
   "cell_type": "code",
   "execution_count": 3,
   "id": "236d0ed1-1a4e-4f2d-92d9-444771a69c6f",
   "metadata": {},
   "outputs": [],
   "source": [
    "def count(DNA_seq):\n",
    "    Nuc_counts = dict(A = 0, T = 0, G = 0, C = 0)\n",
    "    for nuc in DNA_seq:\n",
    "        Nuc_counts[nuc] += 1\n",
    "    return Nuc_counts"
   ]
  },
  {
   "cell_type": "markdown",
   "id": "1cc47a28-9196-470d-b0a8-385d449c74f6",
   "metadata": {},
   "source": [
    "# print nucleotides counts in DNA string"
   ]
  },
  {
   "cell_type": "code",
   "execution_count": 4,
   "id": "17c8e432-04b4-4da5-a997-9bc47e738a76",
   "metadata": {},
   "outputs": [
    {
     "name": "stdout",
     "output_type": "stream",
     "text": [
      "A: 161\n",
      "T: 145\n",
      "G: 152\n",
      "C: 158\n"
     ]
    }
   ],
   "source": [
    "nuc_counts = count(Data)\n",
    "for nuc_type in nuc_counts.keys():\n",
    "    print(nuc_type, \": \", nuc_counts[nuc_type], sep=\"\")"
   ]
  },
  {
   "cell_type": "code",
   "execution_count": null,
   "id": "5fe64d25-4f63-46ec-a857-6e3e72b2ffc8",
   "metadata": {},
   "outputs": [],
   "source": []
  }
 ],
 "metadata": {
  "kernelspec": {
   "display_name": "Python 3 (ipykernel)",
   "language": "python",
   "name": "python3"
  },
  "language_info": {
   "codemirror_mode": {
    "name": "ipython",
    "version": 3
   },
   "file_extension": ".py",
   "mimetype": "text/x-python",
   "name": "python",
   "nbconvert_exporter": "python",
   "pygments_lexer": "ipython3",
   "version": "3.11.7"
  }
 },
 "nbformat": 4,
 "nbformat_minor": 5
}
