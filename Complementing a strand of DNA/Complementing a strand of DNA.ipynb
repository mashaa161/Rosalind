{
 "cells": [
  {
   "cell_type": "markdown",
   "id": "6be5925a-f2c0-4816-b82a-88f8698fe08c",
   "metadata": {},
   "source": [
    "# open the .txt file and extract data from it."
   ]
  },
  {
   "cell_type": "code",
   "execution_count": 2,
   "id": "2ce12c38-8b64-41b9-9fd0-09d88e8c3dcf",
   "metadata": {},
   "outputs": [
    {
     "name": "stdout",
     "output_type": "stream",
     "text": [
      "AGCTCCGGAATTCAGTCAGTCGATCGATGCATGCCCGGTTAGGGCTAGATCGTACGAAATTTGGGCCCAAACGTCAGTCCACCTGTTCAGCTACGATCGATCGCATCGTCGCATGCTACGCATGTTTTGCAGCCGGCAGCTACAGCTGCATGCATGCATACGTACGACTCGATCAGATCGACTACGTCAGCATCCGGGTTTACGATGTTTAAGGGCTAGCT\n"
     ]
    }
   ],
   "source": [
    "with open(\"./Data_file.txt\") as Data_file:\n",
    "    Data = Data_file.readline().strip()\n",
    "print(Data)"
   ]
  },
  {
   "cell_type": "markdown",
   "id": "06482bac-232c-402b-b422-33d433adc9df",
   "metadata": {},
   "source": [
    "# create the reverse complement of DNA string"
   ]
  },
  {
   "cell_type": "code",
   "execution_count": 11,
   "id": "9cd920b8-792d-4452-adfa-e4cdd9c6bde4",
   "metadata": {},
   "outputs": [],
   "source": [
    "def rev_com(DNA_seq):\n",
    "    seq0 = \"AGCT\"\n",
    "    seq1 = \"TCGA\"\n",
    "    pre_comp = str.maketrans(seq0, seq1)\n",
    "    comp = DNA_seq.translate(pre_comp)\n",
    "    rev_comp = comp[:: -1]\n",
    "    return rev_comp"
   ]
  },
  {
   "cell_type": "markdown",
   "id": "0897bf19-36c2-4182-b6fd-f4bd8b4dda2b",
   "metadata": {},
   "source": [
    "# print the reverse complement of the DNA sequence"
   ]
  },
  {
   "cell_type": "code",
   "execution_count": 12,
   "id": "9be99f8e-fce4-4158-a09a-cbf698c3f548",
   "metadata": {},
   "outputs": [
    {
     "name": "stdout",
     "output_type": "stream",
     "text": [
      "AGCTAGCCCTTAAACATCGTAAACCCGGATGCTGACGTAGTCGATCTGATCGAGTCGTACGTATGCATGCATGCAGCTGTAGCTGCCGGCTGCAAAACATGCGTAGCATGCGACGATGCGATCGATCGTAGCTGAACAGGTGGACTGACGTTTGGGCCCAAATTTCGTACGATCTAGCCCTAACCGGGCATGCATCGATCGACTGACTGAATTCCGGAGCT\n"
     ]
    }
   ],
   "source": [
    "print(rev_com(Data))"
   ]
  },
  {
   "cell_type": "code",
   "execution_count": null,
   "id": "d91b9b49-0e70-4892-b74c-8d379c900078",
   "metadata": {},
   "outputs": [],
   "source": []
  }
 ],
 "metadata": {
  "kernelspec": {
   "display_name": "Python 3 (ipykernel)",
   "language": "python",
   "name": "python3"
  },
  "language_info": {
   "codemirror_mode": {
    "name": "ipython",
    "version": 3
   },
   "file_extension": ".py",
   "mimetype": "text/x-python",
   "name": "python",
   "nbconvert_exporter": "python",
   "pygments_lexer": "ipython3",
   "version": "3.11.7"
  }
 },
 "nbformat": 4,
 "nbformat_minor": 5
}
