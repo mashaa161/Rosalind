{
 "cells": [
  {
   "cell_type": "markdown",
   "id": "f4e7eb04-17f0-46f2-85be-39ca53bf2d20",
   "metadata": {},
   "source": [
    "# open the txt file "
   ]
  },
  {
   "cell_type": "code",
   "execution_count": 18,
   "id": "caf3b2d1-009f-444b-a6cd-b358c09fa471",
   "metadata": {},
   "outputs": [
    {
     "name": "stdout",
     "output_type": "stream",
     "text": [
      "4 6\n"
     ]
    }
   ],
   "source": [
    "def read_data(file_path):\n",
    "    with open(file_path, 'r') as file:\n",
    "        data = list(map(int, file.readline().strip().split()))\n",
    "    return data[0], data[1] \n",
    "n, k = read_data(\"./Data_file.txt\")\n",
    "print(n, k)\n"
   ]
  },
  {
   "cell_type": "markdown",
   "id": "d3da15ab-0ca4-43ab-985d-273bcbc404c4",
   "metadata": {},
   "source": [
    "# calculate the total number of rabbit pairs after n months"
   ]
  },
  {
   "cell_type": "code",
   "execution_count": 19,
   "id": "eb449377-7c15-43c1-baa4-47571de9ef39",
   "metadata": {},
   "outputs": [
    {
     "name": "stdout",
     "output_type": "stream",
     "text": [
      "The total number of rabbit pairs after n months is: 13\n"
     ]
    }
   ],
   "source": [
    "def calculate_rabbit_pairs(n, k):\n",
    "    pairs_per_month = [1, 1]  \n",
    "    for month in range(2, n):\n",
    "        new_pairs = pairs_per_month[month - 1] + k * pairs_per_month[month - 2]\n",
    "        pairs_per_month.append(new_pairs)\n",
    "    return pairs_per_month[-1]  \n",
    "\n",
    "total_pairs = calculate_rabbit_pairs(n, k)\n",
    "print(\"The total number of rabbit pairs after n months is:\", total_pairs)"
   ]
  },
  {
   "cell_type": "code",
   "execution_count": null,
   "id": "62150af7-75b2-4da9-baf3-9cf42cb65ec9",
   "metadata": {},
   "outputs": [],
   "source": []
  }
 ],
 "metadata": {
  "kernelspec": {
   "display_name": "Python 3 (ipykernel)",
   "language": "python",
   "name": "python3"
  },
  "language_info": {
   "codemirror_mode": {
    "name": "ipython",
    "version": 3
   },
   "file_extension": ".py",
   "mimetype": "text/x-python",
   "name": "python",
   "nbconvert_exporter": "python",
   "pygments_lexer": "ipython3",
   "version": "3.11.7"
  }
 },
 "nbformat": 4,
 "nbformat_minor": 5
}
